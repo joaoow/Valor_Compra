{
  "nbformat": 4,
  "nbformat_minor": 0,
  "metadata": {
    "colab": {
      "provenance": []
    },
    "kernelspec": {
      "name": "python3",
      "display_name": "Python 3"
    },
    "language_info": {
      "name": "python"
    }
  },
  "cells": [
    {
      "cell_type": "code",
      "execution_count": 3,
      "metadata": {
        "colab": {
          "base_uri": "https://localhost:8080/"
        },
        "id": "6Nyb6mcUaKRs",
        "outputId": "32994da2-45a2-46c8-c87c-3ab51293eadc"
      },
      "outputs": [
        {
          "output_type": "stream",
          "name": "stdout",
          "text": [
            "Digite a quantidade que vai comprar: 25\n",
            "O valor final da compra é: 200.0\n"
          ]
        }
      ],
      "source": [
        "preco_unitario = 10\n",
        "DESCONTO10 = 0.1\n",
        "DESCONTO20 = 0.2\n",
        "quantidade = eval(input('Digite a quantidade que vai comprar: '))\n",
        "if(quantidade <=10): #menor ou igual a 10\n",
        "   valor_final = preco_unitario*quantidade\n",
        "elif(quantidade <=20): #maior que 10 e menor igual a 20\n",
        "   valor_final =  preco_unitario*quantidade*(1-DESCONTO10)\n",
        "else: #maior que 20\n",
        "   valor_final =  preco_unitario*quantidade*(1-DESCONTO20)\n",
        "\n",
        "print(f'O valor final da compra é: {valor_final}')\n",
        "\n"
      ]
    }
  ]
}